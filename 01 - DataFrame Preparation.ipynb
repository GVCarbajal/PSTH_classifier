{
 "cells": [
  {
   "cell_type": "markdown",
   "id": "b6e477b2",
   "metadata": {},
   "source": [
    "# Preparing the data"
   ]
  },
  {
   "cell_type": "code",
   "execution_count": null,
   "id": "8bac9836",
   "metadata": {},
   "outputs": [],
   "source": [
    "# Prepare the toolbox\n",
    "\n",
    "import pandas as pd\n",
    "import matplotlib.pyplot as plt\n",
    "import random\n",
    "import os"
   ]
  },
  {
   "cell_type": "code",
   "execution_count": null,
   "id": "32cfea2a",
   "metadata": {
    "scrolled": true
   },
   "outputs": [],
   "source": [
    "# Create a single DataFrame from the different excel files\n",
    "\n",
    "df = pd.DataFrame()\n",
    "\n",
    "data_dir = \"./data/raw/\"\n",
    "\n",
    "for file in os.listdir(data_dir):\n",
    "    if file.endswith(\".xlsx\"):\n",
    "        data = pd.read_excel(data_dir + file)\n",
    "        df = pd.concat([df, data])\n",
    "        \n",
    "df = df.drop_duplicates().reset_index(drop=True)\n",
    "df"
   ]
  },
  {
   "cell_type": "code",
   "execution_count": null,
   "id": "b34a7b19",
   "metadata": {},
   "outputs": [],
   "source": [
    "# Check for NaN values\n",
    "\n",
    "any(df.isna().sum())"
   ]
  },
  {
   "cell_type": "code",
   "execution_count": null,
   "id": "b8facc0e",
   "metadata": {},
   "outputs": [],
   "source": [
    "# Check that types are correct\n",
    "\n",
    "print(df.info(verbose=True))"
   ]
  },
  {
   "cell_type": "code",
   "execution_count": null,
   "id": "3ae321c3",
   "metadata": {},
   "outputs": [],
   "source": [
    "# Clean strings\n",
    "\n",
    "# The method str provides an access. \n",
    "# Without str, strip returns an error, because it would be acting on a Series instead of a string.\n",
    "df[\"ANIMAL\"] = df[\"ANIMAL\"].str.strip(\"'\")\n",
    "df[\"STATION\"] = df[\"STATION\"].str.strip(\"'\")\n",
    "df[\"DIVISION\"] = df[\"DIVISION\"].str.strip(\"'\")\n",
    "df[\"DIRECTION\"] = df[\"DIRECTION\"].str.strip(\"'\")"
   ]
  },
  {
   "cell_type": "code",
   "execution_count": null,
   "id": "eae46c65",
   "metadata": {},
   "outputs": [],
   "source": [
    "# Take only IC neurons: these have more stereotypical responses than those in the MGB and AC. \n",
    "# We can reincorporate MGB and AC neurons in a later stage of the project.\n",
    "\n",
    "df_IC = df[df[\"STATION\"]=='IC'].copy() # IMPORTANT: copy() to avoid that changes made in df_IC propagate back to df!\n",
    "df_IC.reset_index(drop=True, inplace=True)\n",
    "df_IC"
   ]
  },
  {
   "cell_type": "code",
   "execution_count": null,
   "id": "90bf1d96",
   "metadata": {},
   "outputs": [],
   "source": [
    "# Convert to strings the columns providing ID information\n",
    "\n",
    "df_ids = df_IC[df_IC.columns[0:8].to_list()].applymap(str)\n",
    "df_ids.info()"
   ]
  },
  {
   "cell_type": "code",
   "execution_count": null,
   "id": "1fd98697",
   "metadata": {},
   "outputs": [],
   "source": [
    "# Create unique identifiers for each PSTH vector while cleaning information we won't need for the clustering\n",
    "\n",
    "df_IC['id'] = \"\"\n",
    "\n",
    "for i in range(len(df_IC)):\n",
    "    df_IC.loc[i,'id'] = \"/\".join(df_ids.iloc[i]) # We can get the information back later by using the split method\n",
    "    \n",
    "df_IC.drop(df_ids.columns, axis=1, inplace=True)"
   ]
  },
  {
   "cell_type": "code",
   "execution_count": null,
   "id": "cafd8585",
   "metadata": {},
   "outputs": [],
   "source": [
    "# Check if there are any duplicates in ID\n",
    "\n",
    "any(x == True for x in df_IC['id'].duplicated())"
   ]
  },
  {
   "cell_type": "code",
   "execution_count": null,
   "id": "75cc291f",
   "metadata": {
    "scrolled": true
   },
   "outputs": [],
   "source": [
    "# Some measurements with the same experimental conditions have been repeated, resulting in duplicated IDs. Which ones?\n",
    "\n",
    "df_IC[df_IC['id'].duplicated()]"
   ]
  },
  {
   "cell_type": "code",
   "execution_count": null,
   "id": "37467465",
   "metadata": {},
   "outputs": [],
   "source": [
    "# Handle duplicated IDs\n",
    "\n",
    "for i in df_IC[df_IC['id'].duplicated()].index:\n",
    "    df_IC.loc[i,'id'] = df_IC.loc[i,'id']+'_2' # Remember to remove this _2 if the ID is split(\"/\") back\n",
    "    \n",
    "any(x == True for x in df_IC['id'].duplicated()) # Check if there are any duplicated IDs now"
   ]
  },
  {
   "cell_type": "code",
   "execution_count": null,
   "id": "48fb9fe2",
   "metadata": {},
   "outputs": [],
   "source": [
    "# Save DataFrame to a csv\n",
    "df_IC.to_csv(\"./data/psth_data_IC.csv\",index=False)"
   ]
  },
  {
   "cell_type": "code",
   "execution_count": null,
   "id": "d8522653",
   "metadata": {},
   "outputs": [],
   "source": [
    "# Load DataFrame to check that everything is OK\n",
    "\n",
    "data = pd.read_csv(\"./data/psth_data_IC.csv\")\n",
    "data"
   ]
  },
  {
   "cell_type": "code",
   "execution_count": null,
   "id": "4ac48e66",
   "metadata": {
    "scrolled": false
   },
   "outputs": [],
   "source": [
    "# Check one example to see that everything is OK\n",
    "\n",
    "data.iloc[random.randrange(0,len(data.index)-1)].drop('id').plot(kind='line')\n",
    "plt.xlabel('Time (ms)')\n",
    "plt.ylabel('Spike density (norm)')\n",
    "plt.show()"
   ]
  }
 ],
 "metadata": {
  "kernelspec": {
   "display_name": "Python 3",
   "language": "python",
   "name": "python3"
  },
  "language_info": {
   "codemirror_mode": {
    "name": "ipython",
    "version": 3
   },
   "file_extension": ".py",
   "mimetype": "text/x-python",
   "name": "python",
   "nbconvert_exporter": "python",
   "pygments_lexer": "ipython3",
   "version": "3.8.8"
  }
 },
 "nbformat": 4,
 "nbformat_minor": 5
}
