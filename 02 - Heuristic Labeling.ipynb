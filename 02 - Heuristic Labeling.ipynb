{
 "cells": [
  {
   "cell_type": "markdown",
   "id": "f8c0f16f",
   "metadata": {},
   "source": [
    "# Before labeling: PSTH correction"
   ]
  },
  {
   "cell_type": "code",
   "execution_count": null,
   "id": "8796f3e7",
   "metadata": {},
   "outputs": [],
   "source": [
    "# Prepare the toolbox\n",
    "\n",
    "import random\n",
    "import pandas as pd\n",
    "import matplotlib.pyplot as plt\n",
    "\n",
    "from scipy.signal import find_peaks"
   ]
  },
  {
   "cell_type": "code",
   "execution_count": null,
   "id": "5d904097",
   "metadata": {},
   "outputs": [],
   "source": [
    "# Choose DataFrame\n",
    "\n",
    "df = pd.read_csv(\"./data/psth_data_IC.csv\").set_index(\"id\").sort_index()\n",
    "df"
   ]
  },
  {
   "cell_type": "code",
   "execution_count": null,
   "id": "a0e731f9",
   "metadata": {},
   "outputs": [],
   "source": [
    "# Adjust the time window of the PSTH\n",
    "\n",
    "time_window_psth = df.columns[range(100,221)] # 0 to 120 ms\n",
    "\n",
    "df_psth = df[time_window_psth]"
   ]
  },
  {
   "cell_type": "code",
   "execution_count": null,
   "id": "c4c47a7d",
   "metadata": {},
   "outputs": [],
   "source": [
    "# Select a time window to control for the Spontaneous Firing Rate (SFR)\n",
    "\n",
    "time_window_sfr = df.columns[range(100)] # -100 to 0 ms\n",
    "\n",
    "df_psth_sfr = df[time_window_sfr]"
   ]
  },
  {
   "cell_type": "code",
   "execution_count": null,
   "id": "fbdbe2d0",
   "metadata": {},
   "outputs": [],
   "source": [
    "# Stablish a baseline to substract the SFR out of the PSTH of the evoked response\n",
    "\n",
    "baseline = df_psth_sfr.mean(axis=1) + df_psth_sfr.std(axis=1) # baseline"
   ]
  },
  {
   "cell_type": "code",
   "execution_count": null,
   "id": "502d60b3",
   "metadata": {},
   "outputs": [],
   "source": [
    "# Correct PSTH of the evoked responses by substracting the baseline\n",
    "\n",
    "df_psth_corr = pd.DataFrame(index=df_psth.index, columns=df_psth.columns) # Prealocate a DataFrame for the corrected PSTHs\n",
    "\n",
    "for col in df_psth.columns:\n",
    "    df_psth_corr.loc[:,col] = df_psth.loc[:,col] - baseline\n",
    "\n",
    "df_psth_corr[df_psth_corr<1e-50]=0 # DO I NEED THIS ANYMORE?\n",
    "df_psth_corr"
   ]
  },
  {
   "cell_type": "code",
   "execution_count": null,
   "id": "2ef4240d",
   "metadata": {},
   "outputs": [],
   "source": [
    "# Check some examples to see that everything is OK\n",
    "\n",
    "# Stimulus: pure tone (75 ms). Interstimulus interval of 250 ms (4 Hz presentation rate)\n",
    "tone_x, tone_y = [0,75],[-0.05,-0.05] # info for Matplotlib to represent the tone under the PSTH\n",
    "\n",
    "example = random.randrange(0,len(df_psth_corr.index)-1)\n",
    "df_psth_corr.iloc[example].plot(kind='line')\n",
    "plt.ylim([-0.1, 1])\n",
    "plt.xlabel('Time (ms)')\n",
    "plt.ylabel('Spike density (norm)')\n",
    "tone, = plt.plot(tone_x, tone_y, marker = 'o')\n",
    "tone.set_label('Tone')\n",
    "plt.legend()\n",
    "plt.show()"
   ]
  },
  {
   "cell_type": "markdown",
   "id": "0e1d2860",
   "metadata": {},
   "source": [
    "# Heuristic Labeling\n",
    "\n",
    "Now we are going to find some CLEAR EXAMPLES of each response type by establishing rather CONVERSATIVE CRITERIA.\n",
    "Then we can use those labeled examples to evaluate the classification of different algorithms.\n",
    "Response patterns:\n",
    "\n",
    "    1) IRRESPONSIVE: plots showing no significant evoked response\n",
    "\n",
    "- *PHASIC*: sharp responses evoked by the beginning and/or the end of a tone.\n",
    "\n",
    "    2) ONSET: narrow PSTHs adjusted to the beginning of the stimulus.\n",
    "\n",
    "    3) OFFSET: narrow PSTHs adjusted to the end of the stimulus.\n",
    "\n",
    "    4) ON-OFF: evoked responses marking the beginning and the end of the stimulus.\n",
    "    \n",
    "\n",
    "- *TONIC*: long responses that follow the whole duration of the tone.\n",
    "\n",
    "    5) PAUSER\n",
    "\n",
    "    6) ON-SUSTAIN\n",
    "\n",
    "    7) SUSTAIN"
   ]
  },
  {
   "cell_type": "code",
   "execution_count": null,
   "id": "fbd72715",
   "metadata": {},
   "outputs": [],
   "source": [
    "# IMPORTANT to use copy() OR modifications done in df_pattern will propagate back to df_psth_corr!\n",
    "df_pattern = df_psth_corr.copy() \n",
    "df_pattern['pattern']=''\n",
    "df_pattern\n",
    "\n",
    "# Choose thresholds. BE CONSERVATIVE at this stage!\n",
    "noise_thr = 0.01 # Minimum to consider activity as an evoked response (remember: comes after baseline correction!).\n",
    "weak_thr = 0.1 # To discard activity that might be too weak to be considered a proper response.\n",
    "robust_thr = 0.25 # To select only robust responses."
   ]
  },
  {
   "cell_type": "markdown",
   "id": "14a93ff2",
   "metadata": {},
   "source": [
    "### 1) IRRESPONSIVE pattern"
   ]
  },
  {
   "cell_type": "code",
   "execution_count": null,
   "id": "98d6e12e",
   "metadata": {},
   "outputs": [],
   "source": [
    "# Find some clearly IRRESPONSIVE patterns\n",
    "\n",
    "for id in df_psth_corr.index:\n",
    "    psth = df_psth_corr.loc[id]\n",
    "    if psth.max() < noise_thr: # Time window could be adjusted (e.g., psth[0:121]), but BE CONSERVATIVE at this stage!\n",
    "        df_pattern.loc[id,'pattern'] = \"irresponsive\"\n",
    "        \n",
    "print(len(df_pattern[df_pattern['pattern']==\"irresponsive\"]), \"PSTHs have been labeled as 'irresponsive'\")"
   ]
  },
  {
   "cell_type": "code",
   "execution_count": null,
   "id": "8e783fe2",
   "metadata": {},
   "outputs": [],
   "source": [
    "# Check some examples to see that everything is OK\n",
    "\n",
    "df_pattern[df_pattern['pattern']==\"irresponsive\"].iloc[random.randrange(\n",
    "    len(df_pattern[df_pattern['pattern']==\"irresponsive\"]))].drop('pattern').plot(kind='line')\n",
    "plt.ylim([-0.1, 1])\n",
    "plt.xlabel('Time (ms)')\n",
    "plt.ylabel('Spike density (norm)')\n",
    "tone, = plt.plot(tone_x, tone_y, marker = 'o')\n",
    "tone.set_label('Tone')\n",
    "plt.legend()\n",
    "plt.show()"
   ]
  },
  {
   "cell_type": "markdown",
   "id": "cd822343",
   "metadata": {},
   "source": [
    "### 2) ONSET pattern"
   ]
  },
  {
   "cell_type": "code",
   "execution_count": null,
   "id": "1ea701cb",
   "metadata": {},
   "outputs": [],
   "source": [
    "# Find some clear ONSET patterns\n",
    "\n",
    "for id in df_psth_corr.index:\n",
    "    psth = df_psth_corr.loc[id]\n",
    "    if (\n",
    "        psth[0:41].max() > weak_thr # Looks for an evoked response within the onset time window\n",
    "    ) & (\n",
    "        psth[41:-1].max() < noise_thr # Discards when there is activity passed the onset time window\n",
    "    ):\n",
    "        if (df_pattern['pattern'].loc[id] != '') & (df_pattern['pattern'].loc[id] != 'onset'): # Overlap warning\n",
    "            print(\"OVERLAPPING CRITERIA!\", id, \"has already been classified as\", df_pattern['pattern'].loc[id])\n",
    "        else:\n",
    "            df_pattern.loc[id,'pattern'] = \"onset\" # Assigns ONSET label\n",
    "        \n",
    "print(len(df_pattern[df_pattern['pattern']==\"onset\"]), \"PSTHs have been labeled as 'onset'\")"
   ]
  },
  {
   "cell_type": "code",
   "execution_count": null,
   "id": "fae1be7b",
   "metadata": {},
   "outputs": [],
   "source": [
    "# Check some examples to see that everything is OK\n",
    "\n",
    "df_pattern[df_pattern['pattern']==\"onset\"].iloc[random.randrange(\n",
    "    len(df_pattern[df_pattern['pattern']==\"onset\"]))].drop('pattern').plot(kind='line')\n",
    "plt.ylim([-0.1, 1])\n",
    "plt.xlabel('Time (ms)')\n",
    "plt.ylabel('Spike density (norm)')\n",
    "tone, = plt.plot(tone_x, tone_y, marker = 'o')\n",
    "tone.set_label('Tone')\n",
    "plt.legend()\n",
    "plt.show()"
   ]
  },
  {
   "cell_type": "markdown",
   "id": "0f17ddd2",
   "metadata": {},
   "source": [
    "### 3) OFFSET pattern"
   ]
  },
  {
   "cell_type": "code",
   "execution_count": null,
   "id": "dc5aae06",
   "metadata": {},
   "outputs": [],
   "source": [
    "# Find some clear OFFSET patterns\n",
    "\n",
    "for id in df_psth_corr.index:\n",
    "    psth = df_psth_corr.loc[id]\n",
    "    if (\n",
    "        psth[0:76].max() < noise_thr # Discards when there is activity during the stimulation time window (75 ms)\n",
    "    ) & (\n",
    "        psth[76:121].max() > weak_thr # Looks for an evoked response within the offset time window\n",
    "    ):\n",
    "        if (df_pattern['pattern'].loc[id] != '') & (df_pattern['pattern'].loc[id] != 'offset'): # Overlap warning\n",
    "            print(\"OVERLAPPING CRITERIA!\", id, \"has already been classified as\", df_pattern['pattern'].loc[id])\n",
    "        else:\n",
    "            df_pattern.loc[id,'pattern'] = \"offset\" # Assigns ONSET label\n",
    "        \n",
    "print(len(df_pattern[df_pattern['pattern']==\"offset\"]), \"PSTHs have been labeled as 'offset'\")"
   ]
  },
  {
   "cell_type": "code",
   "execution_count": null,
   "id": "190fcc0b",
   "metadata": {},
   "outputs": [],
   "source": [
    "# Check some examples to see that everything is OK\n",
    "\n",
    "df_pattern[df_pattern['pattern']==\"offset\"].iloc[random.randrange(\n",
    "    len(df_pattern[df_pattern['pattern']==\"offset\"]))].drop('pattern').plot(kind='line')\n",
    "plt.ylim([-0.1, 1])\n",
    "plt.xlabel('Time (ms)')\n",
    "plt.ylabel('Spike density (norm)')\n",
    "tone, = plt.plot(tone_x, tone_y, marker = 'o')\n",
    "tone.set_label('Tone')\n",
    "plt.legend()\n",
    "plt.show()"
   ]
  },
  {
   "cell_type": "markdown",
   "id": "1bb6b2a4",
   "metadata": {},
   "source": [
    "### 4) ON-OFF pattern"
   ]
  },
  {
   "cell_type": "code",
   "execution_count": null,
   "id": "2ed31228",
   "metadata": {},
   "outputs": [],
   "source": [
    "# Find some clear ON-OFF patterns\n",
    "\n",
    "for id in df_psth_corr.index:\n",
    "    psth = df_psth_corr.loc[id]\n",
    "    if (\n",
    "        psth[0:41].max() > weak_thr  # Looks for an evoked response within the onset time window\n",
    "    ) & (\n",
    "        psth[41:71].max() < noise_thr # Discards when there is activity between onset and offset time windows\n",
    "    ) & (\n",
    "        psth[71:101].max() > weak_thr  # Looks for an evoked response within the offset time window\n",
    "    ):\n",
    "        if (df_pattern['pattern'].loc[id] != '') & (df_pattern['pattern'].loc[id] != 'on-off'):\n",
    "            print(\"OVERLAPPING CRITERIA!\", id, \"has already been classified as\", df_pattern['pattern'].loc[id])\n",
    "        else:\n",
    "            df_pattern.loc[id,'pattern'] = \"on-off\" # Assigns ONSET label\n",
    "        \n",
    "print(len(df_pattern[df_pattern['pattern']==\"on-off\"]), \"PSTHs have been labeled as 'on-off'\")"
   ]
  },
  {
   "cell_type": "code",
   "execution_count": null,
   "id": "b6aba5a4",
   "metadata": {},
   "outputs": [],
   "source": [
    "# Check some examples to see that everything is OK\n",
    "\n",
    "df_pattern[df_pattern['pattern']==\"on-off\"].iloc[random.randrange(\n",
    "    len(df_pattern[df_pattern['pattern']==\"on-off\"]))].drop('pattern').plot(kind='line')\n",
    "plt.ylim([-0.1, 1])\n",
    "plt.xlabel('Time (ms)')\n",
    "plt.ylabel('Spike density (norm)')\n",
    "tone, = plt.plot(tone_x, tone_y, marker = 'o')\n",
    "tone.set_label('Tone')\n",
    "plt.legend()\n",
    "plt.show()"
   ]
  },
  {
   "cell_type": "markdown",
   "id": "8853a8ed",
   "metadata": {},
   "source": [
    "### 5) PAUSER pattern"
   ]
  },
  {
   "cell_type": "code",
   "execution_count": null,
   "id": "53f72664",
   "metadata": {},
   "outputs": [],
   "source": [
    "# Find some clear PAUSER patterns\n",
    "\n",
    "for id in df_psth_corr.index:\n",
    "    psth = df_psth_corr.loc[id]\n",
    "    peaks, _ = find_peaks(psth)\n",
    "    peaks_in_tone = peaks[peaks<=70] # Peaks must be well within the duration of the stimulus (75 ms)\n",
    "    if len(peaks_in_tone) < 2: # There must be at least 2 peaks within the tone to be considered a pauser.\n",
    "        continue\n",
    "    elif (\n",
    "        psth[peaks_in_tone[0]] >= robust_thr # Looks for a robust onset component.\n",
    "    ) & (\n",
    "        psth[peaks_in_tone[-1]] >= weak_thr # Looks for a proper post-onset evoked response.\n",
    "    ) & (\n",
    "        psth[list(range(peaks_in_tone[0],peaks_in_tone[-1]))].min() < psth[peaks_in_tone[0]]/3 # DIP after 1st peak\n",
    "    ) & (\n",
    "        psth[list(range(peaks_in_tone[0],peaks_in_tone[-1]))].min() < psth[peaks_in_tone[-1]]/3 # DIP before last peak\n",
    "    ):\n",
    "        if (df_pattern['pattern'].loc[id] != '') & (df_pattern['pattern'].loc[id] != 'pauser'):\n",
    "            print(\"OVERLAPPING CRITERIA!\", id, \"has already been classified as\", df_pattern['pattern'].loc[id])\n",
    "        else:\n",
    "            df_pattern.loc[id,'pattern'] = \"pauser\" # Assigns ONSET label\n",
    "        \n",
    "print(len(df_pattern[df_pattern['pattern']==\"pauser\"]), \"PSTHs have been labeled as 'pauser'\")"
   ]
  },
  {
   "cell_type": "code",
   "execution_count": null,
   "id": "f39affcf",
   "metadata": {},
   "outputs": [],
   "source": [
    "# Check some examples to see that everything is OK\n",
    "\n",
    "df_pattern[df_pattern['pattern']==\"pauser\"].iloc[random.randrange(\n",
    "    len(df_pattern[df_pattern['pattern']==\"pauser\"]))].drop('pattern').plot(kind='line')\n",
    "plt.ylim([-0.1, 1])\n",
    "plt.xlabel('Time (ms)')\n",
    "plt.ylabel('Spike density (norm)')\n",
    "tone, = plt.plot(tone_x, tone_y, marker = 'o')\n",
    "tone.set_label('Tone')\n",
    "plt.legend()\n",
    "plt.show()"
   ]
  },
  {
   "cell_type": "markdown",
   "id": "f189584a",
   "metadata": {},
   "source": [
    "### 6) ON-SUSTAIN pattern"
   ]
  },
  {
   "cell_type": "code",
   "execution_count": null,
   "id": "167e14f3",
   "metadata": {},
   "outputs": [],
   "source": [
    "# Find some clear ON-SUSTAIN patterns\n",
    "\n",
    "for id in df_psth_corr.index:\n",
    "    psth = df_psth_corr.loc[id]\n",
    "    peaks, _ = find_peaks(psth)\n",
    "    peaks_in_tone = peaks[peaks<=70] # Peaks must be well within the duration of the stimulus (75 ms)\n",
    "    if len(peaks_in_tone) < 2: # There must be at least 2 peaks within the tone to be considered a pauser.\n",
    "        continue\n",
    "    elif (\n",
    "        peaks_in_tone[0] < 31 # Checks if the 1st peak is within the onset time window.\n",
    "    ) & (\n",
    "        psth[peaks_in_tone[0]] >= weak_thr # Checks if that 1st peak is robust.\n",
    "    ) & (\n",
    "        psth[peaks_in_tone[-1]] >= noise_thr # Checks if that last peak is high enough.\n",
    "    ) & (\n",
    "        psth[peaks_in_tone[-1]] < psth[peaks_in_tone[0]]/2 # Checks if the last peak is at least half of the 1st peak.\n",
    "    ) & (\n",
    "        psth[peaks_in_tone[0]:peaks_in_tone[-1]].min() > psth[peaks_in_tone[0]]/3 # Checks sustain activity between peaks\n",
    "    ) & (\n",
    "        psth[peaks_in_tone[0]:70].min() > noise_thr # Discards any pause during the stimulus presentation\n",
    "    ):\n",
    "        if (df_pattern['pattern'].loc[id] != '') & (df_pattern['pattern'].loc[id] != 'on-sustain'):\n",
    "            print(\"OVERLAPPING CRITERIA!\", id, \"has already been classified as\", df_pattern['pattern'].loc[id])\n",
    "        else:\n",
    "            df_pattern.loc[id,'pattern'] = \"on-sustain\" # Assigns ONSET label\n",
    "        \n",
    "print(len(df_pattern[df_pattern['pattern']==\"on-sustain\"]), \"PSTHs have been labeled as 'on-sustain'\")"
   ]
  },
  {
   "cell_type": "code",
   "execution_count": null,
   "id": "416c699d",
   "metadata": {},
   "outputs": [],
   "source": [
    "# Check some examples to see that everything is OK\n",
    "\n",
    "df_pattern[df_pattern['pattern']==\"on-sustain\"].iloc[random.randrange(\n",
    "    len(df_pattern[df_pattern['pattern']==\"on-sustain\"]))].drop('pattern').plot(kind='line')\n",
    "plt.ylim([-0.1, 1])\n",
    "plt.xlabel('Time (ms)')\n",
    "plt.ylabel('Spike density (norm)')\n",
    "tone, = plt.plot(tone_x, tone_y, marker = 'o')\n",
    "tone.set_label('Tone')\n",
    "plt.legend()\n",
    "plt.show()"
   ]
  },
  {
   "cell_type": "markdown",
   "id": "767046e1",
   "metadata": {},
   "source": [
    "### 7) SUSTAIN pattern"
   ]
  },
  {
   "cell_type": "code",
   "execution_count": null,
   "id": "c850024f",
   "metadata": {},
   "outputs": [],
   "source": [
    "# Find some clear SUSTAIN patterns\n",
    "\n",
    "for id in df_psth_corr.index:\n",
    "    psth = df_psth_corr.loc[id]\n",
    "    peaks, _ = find_peaks(psth)\n",
    "    peaks_in_tone = peaks[peaks<=50] # Peaks must be well within the duration of the stimulus (75 ms)\n",
    "    if len(peaks_in_tone) == 0:\n",
    "        continue\n",
    "    elif (\n",
    "        psth[peaks_in_tone[0]] >= robust_thr # Checks that the 1st peak is robust\n",
    "    ) & (\n",
    "        psth[peaks_in_tone[0]:71].min() > psth[peaks_in_tone[0]] - weak_thr # Checks that sustain response is rather flat\n",
    "    ):\n",
    "        if (df_pattern['pattern'].loc[id] != '') & (df_pattern['pattern'].loc[id] != 'sustain'):\n",
    "            print(\"OVERLAPPING CRITERIA!\", id, \"has already been classified as\", df_pattern['pattern'].loc[id])\n",
    "        else:\n",
    "            df_pattern.loc[id,'pattern'] = \"sustain\" # Assigns ONSET label\n",
    "        \n",
    "print(len(df_pattern[df_pattern['pattern']==\"sustain\"]), \"PSTHs have been labeled as 'sustain'\")"
   ]
  },
  {
   "cell_type": "code",
   "execution_count": null,
   "id": "29ff3c84",
   "metadata": {},
   "outputs": [],
   "source": [
    "# Check some examples to see that everything is OK\n",
    "\n",
    "df_pattern[df_pattern['pattern']==\"sustain\"].iloc[random.randrange(\n",
    "    len(df_pattern[df_pattern['pattern']==\"sustain\"]))].drop('pattern').plot(kind='line')\n",
    "plt.ylim([-0.1, 1])\n",
    "plt.xlabel('Time (ms)')\n",
    "plt.ylabel('Spike density (norm)')\n",
    "tone, = plt.plot(tone_x, tone_y, marker = 'o')\n",
    "tone.set_label('Tone')\n",
    "plt.legend()\n",
    "plt.show()"
   ]
  },
  {
   "cell_type": "markdown",
   "id": "ccc1d0e4",
   "metadata": {},
   "source": [
    "# Preliminar classification report"
   ]
  },
  {
   "cell_type": "code",
   "execution_count": null,
   "id": "5fd4ee18",
   "metadata": {},
   "outputs": [],
   "source": [
    "# Preliminar classification report\n",
    "\n",
    "display(df_pattern['pattern'].value_counts().drop(''))\n",
    "print(sum(df_pattern['pattern'] != ''), \"recordings met the criteria to be labeled in one category.\")\n",
    "print(round(sum(df_pattern['pattern'] == '')*100/len(df_pattern['pattern']),1), \"% of the recordings remain unlabeled.\")"
   ]
  },
  {
   "cell_type": "code",
   "execution_count": null,
   "id": "45edae48",
   "metadata": {},
   "outputs": [],
   "source": [
    "# Save DataFrame to a csv\n",
    "df_pattern.to_csv(\"./data/psth_data_IC_preclassified.csv\")"
   ]
  },
  {
   "cell_type": "markdown",
   "id": "a3d015d8",
   "metadata": {},
   "source": [
    "# Drafting area... (IGNORE!)"
   ]
  },
  {
   "cell_type": "code",
   "execution_count": null,
   "id": "2a034e62",
   "metadata": {},
   "outputs": [],
   "source": [
    "# Find some clear SUSTAIN patterns\n",
    "\n",
    "i=0\n",
    "for id in df_psth_corr.index:\n",
    "    psth = df_psth_corr.loc[id]\n",
    "    peaks, _ = find_peaks(psth)\n",
    "    peaks_in_tone = peaks[peaks<=50] # Peaks must be well within the duration of the stimulus (75 ms)\n",
    "    if len(peaks_in_tone) == 0:\n",
    "        continue\n",
    "    elif (\n",
    "        psth[peaks_in_tone[0]] >= weak_thr # Checks that the 1st peak is robust\n",
    "    ) & (\n",
    "        psth[peaks_in_tone[0]].min() >= weak_thr # Checks that sustain response is rather flat\n",
    "    ) & (\n",
    "        psth[peaks_in_tone[0]:71].min() > psth[peaks_in_tone[0]] - weak_thr # Checks that sustain response is rather flat\n",
    "    ):\n",
    "        if (df_pattern['pattern'].loc[id] != '') & (df_pattern['pattern'].loc[id] != 'sustain'):\n",
    "            print(\"OVERLAPPING CRITERIA!\", id, \"has already been classified as\", df_pattern['pattern'].loc[id])\n",
    "        else:\n",
    "            df_psth_corr.loc[id].plot(kind='line')\n",
    "            plt.title(id)\n",
    "            plt.ylim([-0.1, 1])\n",
    "            plt.xlabel('Time (ms)')\n",
    "            plt.ylabel('Spike density (norm)')\n",
    "            tone, = plt.plot(tone_x, tone_y, marker = 'o')\n",
    "            tone.set_label('Tone')\n",
    "            plt.legend()\n",
    "            plt.show()\n",
    "            i+=1\n",
    "\n",
    "print(i,\"recordings labeled.\")"
   ]
  },
  {
   "cell_type": "code",
   "execution_count": null,
   "id": "3d641635",
   "metadata": {},
   "outputs": [],
   "source": [
    "# Find some clear ON-SUSTAIN patterns\n",
    "\n",
    "i=0\n",
    "\n",
    "for id in df_psth_corr.index:\n",
    "    psth = df_psth_corr.loc[id]\n",
    "    peaks, _ = find_peaks(psth)\n",
    "    peaks_in_tone = peaks[peaks<=70] # Peaks must be well within the duration of the stimulus (75 ms)\n",
    "    if len(peaks_in_tone) < 2: # There must be at least 2 peaks within the tone to be considered a pauser.\n",
    "        continue\n",
    "    elif (\n",
    "        peaks_in_tone[0] < 31 # Checks if the 1st peak is within the onset time window.\n",
    "    ) & (\n",
    "        psth[peaks_in_tone[0]] >= weak_thr # Checks if that 1st peak is robust.\n",
    "    ) & (\n",
    "        psth[peaks_in_tone[-1]] >= noise_thr # Checks if that last peak is high enough.\n",
    "    ) & (\n",
    "        psth[peaks_in_tone[0]]/1.2 > psth[41:70].max() # Checks if the last peak is at least half of the 1st peak.\n",
    "    ) & (\n",
    "        psth[peaks_in_tone[0]:peaks_in_tone[-1]].min() > psth[peaks_in_tone[0]]/3 # Checks sustain activity between peaks\n",
    "    ) & (\n",
    "        psth[peaks_in_tone[0]:70].min() > noise_thr # Discards any pause during the stimulus presentation\n",
    "    ):\n",
    "        if (df_pattern['pattern'].loc[id] != '') & (df_pattern['pattern'].loc[id] != 'on-sustain'):\n",
    "            print(\"OVERLAPPING CRITERIA!\", id, \"has already been classified as\", df_pattern['pattern'].loc[id])\n",
    "        else:\n",
    "            df_psth_corr.loc[id].plot(kind='line')\n",
    "            plt.title(id)\n",
    "            plt.ylim([-0.1, 1])\n",
    "            plt.xlabel('Time (ms)')\n",
    "            plt.ylabel('Spike density (norm)')\n",
    "            tone, = plt.plot(tone_x, tone_y, marker = 'o')\n",
    "            tone.set_label('Tone')\n",
    "            plt.legend()\n",
    "            plt.show()\n",
    "            i+=1\n",
    "\n",
    "print(i,\"recordings labeled.\")"
   ]
  },
  {
   "cell_type": "code",
   "execution_count": null,
   "id": "700c507e",
   "metadata": {},
   "outputs": [],
   "source": [
    "psth[list(range(peaks_in_tone[0],peaks_in_tone[-1]))].min() < psth[peaks_in_tone[0]]/3"
   ]
  }
 ],
 "metadata": {
  "kernelspec": {
   "display_name": "Python 3",
   "language": "python",
   "name": "python3"
  },
  "language_info": {
   "codemirror_mode": {
    "name": "ipython",
    "version": 3
   },
   "file_extension": ".py",
   "mimetype": "text/x-python",
   "name": "python",
   "nbconvert_exporter": "python",
   "pygments_lexer": "ipython3",
   "version": "3.8.8"
  }
 },
 "nbformat": 4,
 "nbformat_minor": 5
}
